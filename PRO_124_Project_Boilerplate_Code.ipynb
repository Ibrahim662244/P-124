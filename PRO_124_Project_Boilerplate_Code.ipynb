{
  "nbformat": 4,
  "nbformat_minor": 0,
  "metadata": {
    "colab": {
      "provenance": [],
      "include_colab_link": true
    },
    "kernelspec": {
      "name": "python3",
      "display_name": "Python 3"
    },
    "language_info": {
      "name": "python"
    }
  },
  "cells": [
    {
      "cell_type": "markdown",
      "metadata": {
        "id": "view-in-github",
        "colab_type": "text"
      },
      "source": [
        "<a href=\"https://colab.research.google.com/github/Ibrahim662244/P-124/blob/main/PRO_124_Project_Boilerplate_Code.ipynb\" target=\"_parent\"><img src=\"https://colab.research.google.com/assets/colab-badge.svg\" alt=\"Open In Colab\"/></a>"
      ]
    },
    {
      "cell_type": "markdown",
      "source": [
        "## Print Elements of Array"
      ],
      "metadata": {
        "id": "xZm_Pf8B1ehI"
      }
    },
    {
      "cell_type": "markdown",
      "source": [
        "**Problem**: Given 1X1 Array:\n",
        "\n",
        "```\n",
        "arr_1d = [53, 78, 90, 12, 15, 65, 44, 32, 29, 36]\n",
        "```\n",
        "\n",
        "1. Print 3rd and 9th element of the array.\n",
        "2. Change  3rd and 9th element to 100.\n"
      ],
      "metadata": {
        "id": "Sa43lAGbgtEp"
      }
    },
    {
      "cell_type": "code",
      "source": [
        "# write code here\n",
        "import numpy as np\n",
        "\n",
        "arr_1d = [53, 78, 90, 12, 15, 65, 44, 32, 29, 36]\n",
        "\n",
        "\n",
        "print(arr_1d[2])\n",
        "print(arr_1d[8])\n",
        "\n",
        "arr_1d[2] = 100\n",
        "arr_1d[8] = 100\n",
        "\n",
        "print(arr_1d[2])\n",
        "print(arr_1d[8])\n",
        "\n",
        "print(arr_1d)"
      ],
      "metadata": {
        "id": "8Tu6DVd_gsyW",
        "outputId": "869ffda4-f36c-48e6-b8f6-7dd830da335a",
        "colab": {
          "base_uri": "https://localhost:8080/"
        }
      },
      "execution_count": 15,
      "outputs": [
        {
          "output_type": "stream",
          "name": "stdout",
          "text": [
            "90\n",
            "29\n",
            "100\n",
            "100\n",
            "[53, 78, 100, 12, 15, 65, 44, 32, 100, 36]\n"
          ]
        }
      ]
    },
    {
      "cell_type": "markdown",
      "source": [
        "## Update Diagonal Elements of Multidimensional Array"
      ],
      "metadata": {
        "id": "uRA1HzKH1tnN"
      }
    },
    {
      "cell_type": "markdown",
      "source": [
        "**Problem**: Given a 3x3 array, change all the diagonal elements of the matrix to 0.\n",
        "\n",
        "```\n",
        "\n",
        "arr_2d = [[1,2,3],\n",
        "          [4,5,6],\n",
        "          [7,8,9]]\n",
        "```\n",
        "\n",
        "\n",
        "\n"
      ],
      "metadata": {
        "id": "3eSRw71ohlfT"
      }
    },
    {
      "cell_type": "code",
      "source": [
        "#Write code here\n",
        "arr_2d = [[1,2,3],\n",
        "          [4,5,6],\n",
        "          [7,8,9]]\n",
        "\n",
        "arr_2d[0][0] = 0\n",
        "arr_2d[1][1] = 0\n",
        "arr_2d[2][2] = 0\n",
        "\n",
        "print(arr_2d)"
      ],
      "metadata": {
        "id": "FR0UU8eohcL2",
        "outputId": "1a0abe97-05ed-4169-dc6c-06a2e2569746",
        "colab": {
          "base_uri": "https://localhost:8080/"
        }
      },
      "execution_count": 16,
      "outputs": [
        {
          "output_type": "stream",
          "name": "stdout",
          "text": [
            "[[0, 2, 3], [4, 0, 6], [7, 8, 0]]\n"
          ]
        }
      ]
    },
    {
      "cell_type": "markdown",
      "source": [
        "## Numbers of Rows & Column"
      ],
      "metadata": {
        "id": "bXr0ly2R2eWL"
      }
    },
    {
      "cell_type": "markdown",
      "source": [
        "**Problem**: Write a program to find the number of rows and columns present in the matrix given below. \n",
        "Note: Initialize the matrix using NumPy.\n",
        "\n",
        "```\n",
        " A= [[9,5,6,1,-2],\n",
        "    [3,-8,1,2,0],\n",
        "    [6,9,3,3,5]]\n",
        "```\n",
        "\n"
      ],
      "metadata": {
        "id": "Zd4zvVe6aDuH"
      }
    },
    {
      "cell_type": "code",
      "execution_count": 17,
      "metadata": {
        "id": "Pc1piH7OaABW",
        "outputId": "19439ba8-e352-46e1-b091-ec62a9c492d3",
        "colab": {
          "base_uri": "https://localhost:8080/"
        }
      },
      "outputs": [
        {
          "output_type": "stream",
          "name": "stdout",
          "text": [
            "3\n",
            "5\n"
          ]
        }
      ],
      "source": [
        "# write code here\n",
        "A=np.array([[9,5,6,1,-2],\n",
        "            [3,-8,1,2,0],\n",
        "            [6,9,3,3,5]])\n",
        "R = len(A)\n",
        "C = len(A[0])\n",
        "\n",
        "print(R)\n",
        "print(C)"
      ]
    },
    {
      "cell_type": "markdown",
      "source": [
        "## Scalar Multiplication"
      ],
      "metadata": {
        "id": "e-VQUDqo3Z89"
      }
    },
    {
      "cell_type": "markdown",
      "source": [
        "**Problem**: Print each element of the following matrix. Initialize the matrix using NumPy.  <br />\n",
        "Also, multiply the matrix with n = 150 and print the matrix after multiplication.\n",
        "   \n",
        "```\n",
        " B=[[-8,0,2,4],[5,2,-1,7]]\n",
        "```\n",
        "\n",
        "\n",
        "   "
      ],
      "metadata": {
        "id": "T49oCERtaugu"
      }
    },
    {
      "cell_type": "code",
      "source": [
        "B=np.array([[-8,0,2,4],[5,2,-1,7]])\n",
        "\n",
        "r = len(B)\n",
        "c = len(B[0])\n",
        "\n",
        "\n",
        "n = r*c \n",
        "I=np.zeros([r,c])\n",
        "count = 1\n",
        "\n",
        "for i in range (r):\n",
        "  for j in range (c):\n",
        "    I[i][j]= 150*B[i][j]\n",
        "    if count <= n:\n",
        "      print(count, B[i][j])\n",
        "      count += 1\n",
        "\n",
        "print(\"\\n\", I)"
      ],
      "metadata": {
        "id": "lqYsQ20ZgeXy",
        "outputId": "441fcae3-a064-4abe-9f6d-1c38c54b18d7",
        "colab": {
          "base_uri": "https://localhost:8080/"
        }
      },
      "execution_count": 24,
      "outputs": [
        {
          "output_type": "stream",
          "name": "stdout",
          "text": [
            "1 -8\n",
            "2 0\n",
            "3 2\n",
            "4 4\n",
            "5 5\n",
            "6 2\n",
            "7 -1\n",
            "8 7\n",
            "\n",
            " [[-1200.     0.   300.   600.]\n",
            " [  750.   300.  -150.  1050.]]\n"
          ]
        }
      ]
    }
  ]
}